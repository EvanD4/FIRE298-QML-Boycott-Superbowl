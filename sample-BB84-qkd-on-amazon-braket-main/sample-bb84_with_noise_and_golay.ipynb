{
 "cells": [
  {
   "cell_type": "code",
   "execution_count": 1,
   "id": "dd693184-89c1-4ba2-a379-3352161a10f6",
   "metadata": {},
   "outputs": [],
   "source": [
    "import base64\n",
    "import numpy as np\n",
    "\n",
    "from braket.circuits import noises\n",
    "from braket.devices import LocalSimulator\n",
    "\n",
    "from utils.bb84 import initialize_protocol, encode_qubits, measure_qubits, filter_qubits, array_to_string\n",
    "from utils.golay_code import GolayCode\n",
    "from utils.secret_utils import convert_to_octets"
   ]
  },
  {
   "cell_type": "code",
   "execution_count": 2,
   "id": "2ed92035-9ad5-479b-9d7c-8a767b6b8aa3",
   "metadata": {},
   "outputs": [],
   "source": [
    "BIT_FLIP_PROBABILITY = 0.1          # probability of bit flip - should work fine up to probability of about 0.25\n",
    "NUMBER_OF_QUBITS = 12               # only change this line if you are sure you know what you're doing :)\n",
    "ERROR_CORRECTION_CHUNK_SIZE = 12    # do not change this line in this notebook\n",
    "\n",
    "alice_raw_key = np.array([])\n",
    "bob_raw_key = np.array([])"
   ]
  },
  {
   "cell_type": "code",
   "execution_count": 3,
   "id": "89b4aeb7",
   "metadata": {},
   "outputs": [],
   "source": [
    "# Generate key material until there are 12 bits of raw key\n",
    "\n",
    "while len(alice_raw_key) < ERROR_CORRECTION_CHUNK_SIZE:\n",
    "\n",
    "    # For Alice, the important basis is encoding basis.\n",
    "    encoding_basis_A, states_A, _ = initialize_protocol(NUMBER_OF_QUBITS)\n",
    "    \n",
    "    # Print the initial state of Alice\n",
    "    sent_bits = array_to_string(states_A)\n",
    "\n",
    "    # For Bob, the relevant basis is measurement basis.\n",
    "    _, _, measurement_basis_B = initialize_protocol(NUMBER_OF_QUBITS)\n",
    "\n",
    "    # Alice encodes the values of her qubits using according bases from `encoding_bases_A`.  \n",
    "    # This is stored as a Qiskit quantum circuit.  \n",
    "    encoded_qubits_A = encode_qubits(NUMBER_OF_QUBITS, states_A, encoding_basis_A)\n",
    "\n",
    "    # Transmission of encoded qubits to Bob - might add noise!\n",
    "    noise = noises.BitFlip(probability=BIT_FLIP_PROBABILITY)\n",
    "    encoded_qubits_A.apply_gate_noise(noise)\n",
    "\n",
    "    # Bob performs measurement on the received qubits\n",
    "    measured_circuit = measure_qubits(encoded_qubits_A, measurement_basis_B)\n",
    "    device = LocalSimulator(\"braket_dm\")\n",
    "    result = device.run(measured_circuit, shots=1).result()\n",
    "    measured_bits = list(result.measurements[0])\n",
    "\n",
    "    # After Bob has measured the qubits, he sends his measurement bases to Alice. \n",
    "    # She responds to Bob by sending him her encoding bases. Now both parties know both the encoding basis and measurement basis for each qubit.   \n",
    "    # In the key sifting phase, both sides keep only the qubits for which encoding basis and measurement basis were the same.      \n",
    "    alice_raw_key = np.concatenate( (alice_raw_key, filter_qubits(sent_bits, encoding_basis_A, measurement_basis_B)) ) \n",
    "    bob_raw_key = np.concatenate( (bob_raw_key, filter_qubits(measured_bits, encoding_basis_A, measurement_basis_B)) )\n"
   ]
  },
  {
   "cell_type": "code",
   "execution_count": 4,
   "id": "7f5ed891",
   "metadata": {},
   "outputs": [
    {
     "data": {
      "text/plain": [
       "array([1., 0., 1., 1., 1., 0., 1., 0., 1., 1., 1., 1.])"
      ]
     },
     "execution_count": 4,
     "metadata": {},
     "output_type": "execute_result"
    }
   ],
   "source": [
    "alice_raw_key = alice_raw_key[:12]\n",
    "alice_raw_key"
   ]
  },
  {
   "cell_type": "code",
   "execution_count": 5,
   "id": "637de3e6",
   "metadata": {},
   "outputs": [
    {
     "data": {
      "text/plain": [
       "array([1., 0., 1., 1., 1., 0., 1., 0., 1., 1., 1., 1.])"
      ]
     },
     "execution_count": 5,
     "metadata": {},
     "output_type": "execute_result"
    }
   ],
   "source": [
    "bob_raw_key = bob_raw_key[:12]\n",
    "bob_raw_key"
   ]
  },
  {
   "cell_type": "markdown",
   "id": "3d210f78-cdd9-4b55-8a49-e909a96cbbb2",
   "metadata": {},
   "source": [
    "### Key reconciliation \n",
    "\n",
    "After the key sifting phase, Alice and Bob proceed to key reconciliation.  \n",
    "\n",
    "To reconciliate the key, techniques of error correction are used. In this - **the Golay [24,12] error-correcting code**.  \n",
    "The process is following:  \n",
    "1. Both sides create a linear code of required dimension (depending on the resulting raw key length).    \n",
    "2. Both sides calculate the generator matrix and parity check matrix.  \n",
    "3. Alice encodes her key into a codeword using the generator matrix. \n",
    "4. Alice sends to Bob the parity check bits (all the bits that are not the key itself). \n",
    "5. Bob concatenates the bits he received from Alice together with his key. This plays the role of a message with potential errors.\n",
    "6. Bob uses the parity-check matrix and syndrome to decide if there are errors in his key (with respect to Alice's key) and to correct potential errors.  "
   ]
  },
  {
   "cell_type": "code",
   "execution_count": 6,
   "id": "842b027f-3b94-4e44-8e81-85429bf6ee3d",
   "metadata": {},
   "outputs": [],
   "source": [
    "error_correcting_code = GolayCode()\n",
    "\n",
    "generator_matrix = error_correcting_code.get_generator_matrix()\n",
    "parity_check = error_correcting_code.get_parity_check_matrix()\n",
    "b_matrix = error_correcting_code.get_b_matrix()"
   ]
  },
  {
   "cell_type": "code",
   "execution_count": 7,
   "id": "b567c0e0-2475-4946-bc82-b2a2797bab8a",
   "metadata": {},
   "outputs": [
    {
     "name": "stdout",
     "output_type": "stream",
     "text": [
      "Key of Alice after encoding is: [1. 0. 1. 1. 1. 0. 1. 0. 1. 1. 1. 1. 1. 1. 1. 0. 0. 0. 0. 1. 1. 1. 1. 0.]\n",
      "Syndrom of Alice (should be all zero): [0. 0. 0. 0. 0. 0. 0. 0. 0. 0. 0. 0.]\n",
      "Information sent to Bob: [1. 1. 1. 0. 0. 0. 0. 1. 1. 1. 1. 0.]\n"
     ]
    }
   ],
   "source": [
    "encoded_key_A = np.matmul(generator_matrix, alice_raw_key) % 2\n",
    "print(f'Key of Alice after encoding is: {encoded_key_A}')\n",
    "syndrome_A = np.matmul(encoded_key_A, parity_check) % 2\n",
    "print(f'Syndrom of Alice (should be all zero): {syndrome_A}')\n",
    "parity_bits = encoded_key_A[12:]\n",
    "print(f'Information sent to Bob: {parity_bits}')"
   ]
  },
  {
   "cell_type": "code",
   "execution_count": 8,
   "id": "f40415fd-2eb4-4b1e-97d5-b1302e1b46a7",
   "metadata": {},
   "outputs": [
    {
     "name": "stdout",
     "output_type": "stream",
     "text": [
      "[1. 0. 1. 1. 1. 0. 1. 0. 1. 1. 1. 1. 1. 1. 1. 0. 0. 0. 0. 1. 1. 1. 1. 0.]\n",
      "[0. 0. 0. 0. 0. 0. 0. 0. 0. 0. 0. 0.]\n"
     ]
    },
    {
     "data": {
      "text/plain": [
       "array([0., 0., 0., 0., 0., 0., 0., 0., 0., 0., 0., 0.])"
      ]
     },
     "execution_count": 8,
     "metadata": {},
     "output_type": "execute_result"
    }
   ],
   "source": [
    "encoded_key_B = np.concatenate((bob_raw_key, parity_bits))\n",
    "print(encoded_key_B)\n",
    "syndrome_B = np.matmul(encoded_key_B, parity_check) % 2\n",
    "print(syndrome_B)\n",
    "syndrome_BB = np.matmul(syndrome_B, b_matrix) % 2\n",
    "syndrome_BB"
   ]
  },
  {
   "cell_type": "markdown",
   "id": "02b9dab8",
   "metadata": {},
   "source": [
    "The syndrome on Bob's site is not all zeros, which means that there is an error as compared to Alice's key!  \n",
    "To correct the error, we need to check use the syndrome."
   ]
  },
  {
   "cell_type": "code",
   "execution_count": 9,
   "id": "7f98de11",
   "metadata": {},
   "outputs": [
    {
     "name": "stdout",
     "output_type": "stream",
     "text": [
      "[0. 0. 0. 0. 0. 0. 0. 0. 0. 0. 0. 0. 0. 0. 0. 0. 0. 0. 0. 0. 0. 0. 0. 0.]\n"
     ]
    }
   ],
   "source": [
    "if syndrome_BB.sum() < 4:\n",
    "    correction_mask = np.concatenate((syndrome_BB, np.zeros(12,)))\n",
    "    print(correction_mask)\n",
    "else:\n",
    "    print(\"Decoding failed - more than 3 errors\")"
   ]
  },
  {
   "cell_type": "code",
   "execution_count": 10,
   "id": "08b0b308",
   "metadata": {},
   "outputs": [
    {
     "data": {
      "text/plain": [
       "array([1, 0, 1, 1, 1, 0, 1, 0, 1, 1, 1, 1])"
      ]
     },
     "execution_count": 10,
     "metadata": {},
     "output_type": "execute_result"
    }
   ],
   "source": [
    "corrected_key = np.mod(bob_raw_key + correction_mask[:12], 2).astype(int)\n",
    "corrected_key"
   ]
  },
  {
   "cell_type": "code",
   "execution_count": 11,
   "id": "d91189e7",
   "metadata": {},
   "outputs": [
    {
     "data": {
      "text/plain": [
       "array([ True,  True,  True,  True,  True,  True,  True,  True,  True,\n",
       "        True,  True,  True])"
      ]
     },
     "execution_count": 11,
     "metadata": {},
     "output_type": "execute_result"
    }
   ],
   "source": [
    "corrected_key == alice_raw_key"
   ]
  },
  {
   "cell_type": "markdown",
   "id": "549acacf-aa50-46f8-9108-20a184afcd75",
   "metadata": {},
   "source": [
    "**Generate alphanumeric keys from the sequences of 0's and 1's**\n",
    "\n",
    "If you need keys that are made of letters (e.g. for tokens or other regular use), you should group the key into octets,  \n",
    "create a bytearray of octets and then encode each octet according to ASCII.\n",
    "\n",
    "Please note that this shortens they key and to work properly quite a key of at least 8 bit is needed."
   ]
  },
  {
   "cell_type": "code",
   "execution_count": 12,
   "id": "9e6d6763-5da3-4663-805c-03b99da9bb04",
   "metadata": {},
   "outputs": [
    {
     "name": "stdout",
     "output_type": "stream",
     "text": [
      "ug==\n"
     ]
    }
   ],
   "source": [
    "ASCII_key = base64.b64encode(convert_to_octets(array_to_string(corrected_key))).decode('ascii')\n",
    "print(ASCII_key)"
   ]
  }
 ],
 "metadata": {
  "kernelspec": {
   "display_name": "quantum",
   "language": "python",
   "name": "python3"
  },
  "language_info": {
   "codemirror_mode": {
    "name": "ipython",
    "version": 3
   },
   "file_extension": ".py",
   "mimetype": "text/x-python",
   "name": "python",
   "nbconvert_exporter": "python",
   "pygments_lexer": "ipython3",
   "version": "3.12.4"
  }
 },
 "nbformat": 4,
 "nbformat_minor": 5
}

