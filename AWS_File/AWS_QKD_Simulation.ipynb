{
  "nbformat": 4,
  "nbformat_minor": 0,
  "metadata": {
    "colab": {
      "provenance": []
    },
    "kernelspec": {
      "name": "python3",
      "display_name": "Python 3"
    },
    "language_info": {
      "name": "python"
    }
  },
  "cells": [
    {
      "cell_type": "code",
      "execution_count": 4,
      "metadata": {
        "colab": {
          "base_uri": "https://localhost:8080/"
        },
        "id": "x8Idf9Kvqplz",
        "outputId": "4fd77309-2ae0-4fd4-9784-3dd1e075db16"
      },
      "outputs": [
        {
          "output_type": "stream",
          "name": "stdout",
          "text": [
            "--2025-09-23 03:46:32--  https://github.com/aws-samples/sample-BB84-qkd-on-amazon-braket/archive/refs/heads/main.zip\n",
            "Resolving github.com (github.com)... 140.82.116.3\n",
            "Connecting to github.com (github.com)|140.82.116.3|:443... connected.\n",
            "HTTP request sent, awaiting response... 302 Found\n",
            "Location: https://codeload.github.com/aws-samples/sample-BB84-qkd-on-amazon-braket/zip/refs/heads/main [following]\n",
            "--2025-09-23 03:46:32--  https://codeload.github.com/aws-samples/sample-BB84-qkd-on-amazon-braket/zip/refs/heads/main\n",
            "Resolving codeload.github.com (codeload.github.com)... 140.82.116.10\n",
            "Connecting to codeload.github.com (codeload.github.com)|140.82.116.10|:443... connected.\n",
            "HTTP request sent, awaiting response... 200 OK\n",
            "Length: unspecified [application/zip]\n",
            "Saving to: ‘sample-bb84.zip’\n",
            "\n",
            "sample-bb84.zip         [ <=>                ]  21.61K  --.-KB/s    in 0.006s  \n",
            "\n",
            "2025-09-23 03:46:32 (3.79 MB/s) - ‘sample-bb84.zip’ saved [22126]\n",
            "\n",
            "/content/sample-BB84-qkd-on-amazon-braket-main\n",
            "total 44\n",
            "drwxr-xr-x 3 root root  4096 Jul  7 17:54 .\n",
            "drwxr-xr-x 1 root root  4096 Sep 23 03:46 ..\n",
            "-rw-r--r-- 1 root root   309 Jul  7 17:54 CODE_OF_CONDUCT.md\n",
            "-rw-r--r-- 1 root root  3160 Jul  7 17:54 CONTRIBUTING.md\n",
            "-rw-r--r-- 1 root root   947 Jul  7 17:54 LICENSE\n",
            "-rw-r--r-- 1 root root  2897 Jul  7 17:54 README.md\n",
            "-rw-r--r-- 1 root root 10511 Jul  7 17:54 sample-bb84_with_noise_and_golay.ipynb\n",
            "-rw-r--r-- 1 root root  3743 Jul  7 17:54 sample-bb84_with_noise_and_golay.py\n",
            "drwxr-xr-x 3 root root  4096 Jul  7 17:54 utils\n"
          ]
        }
      ],
      "source": [
        "# Install Required Libraries\n",
        "# in a new Colab cell\n",
        "!wget -O sample-bb84.zip https://github.com/aws-samples/sample-BB84-qkd-on-amazon-braket/archive/refs/heads/main.zip\n",
        "!unzip -q sample-bb84.zip\n",
        "# cd into the repo folder that was created\n",
        "%cd sample-BB84-qkd-on-amazon-braket-main\n",
        "# show files so you can confirm utils/ and the notebook are present\n",
        "!ls -la"
      ]
    },
    {
      "cell_type": "code",
      "source": [
        "!pip install --quiet amazon-braket-sdk amazon-braket-default-simulator numpy jupyter\n"
      ],
      "metadata": {
        "colab": {
          "base_uri": "https://localhost:8080/"
        },
        "id": "UhhiiAAqrlo-",
        "outputId": "9bd3ddc4-0c27-4093-d6b6-b10d6d9656dc"
      },
      "execution_count": 5,
      "outputs": [
        {
          "output_type": "stream",
          "name": "stdout",
          "text": [
            "\u001b[?25l   \u001b[90m━━━━━━━━━━━━━━━━━━━━━━━━━━━━━━━━━━━━━━━━\u001b[0m \u001b[32m0.0/370.4 kB\u001b[0m \u001b[31m?\u001b[0m eta \u001b[36m-:--:--\u001b[0m\r\u001b[2K   \u001b[90m━━━━━━━━━━━━━━━━━━━━━━━━━━━━━━━━━━━━━━━━\u001b[0m \u001b[32m370.4/370.4 kB\u001b[0m \u001b[31m14.4 MB/s\u001b[0m eta \u001b[36m0:00:00\u001b[0m\n",
            "\u001b[?25h\u001b[?25l   \u001b[90m━━━━━━━━━━━━━━━━━━━━━━━━━━━━━━━━━━━━━━━━\u001b[0m \u001b[32m0.0/231.1 kB\u001b[0m \u001b[31m?\u001b[0m eta \u001b[36m-:--:--\u001b[0m\r\u001b[2K   \u001b[90m━━━━━━━━━━━━━━━━━━━━━━━━━━━━━━━━━━━━━━━━\u001b[0m \u001b[32m231.1/231.1 kB\u001b[0m \u001b[31m17.9 MB/s\u001b[0m eta \u001b[36m0:00:00\u001b[0m\n",
            "\u001b[?25h\u001b[?25l   \u001b[90m━━━━━━━━━━━━━━━━━━━━━━━━━━━━━━━━━━━━━━━━\u001b[0m \u001b[32m0.0/144.5 kB\u001b[0m \u001b[31m?\u001b[0m eta \u001b[36m-:--:--\u001b[0m\r\u001b[2K   \u001b[90m━━━━━━━━━━━━━━━━━━━━━━━━━━━━━━━━━━━━━━━━\u001b[0m \u001b[32m144.5/144.5 kB\u001b[0m \u001b[31m11.0 MB/s\u001b[0m eta \u001b[36m0:00:00\u001b[0m\n",
            "\u001b[?25h\u001b[?25l   \u001b[90m━━━━━━━━━━━━━━━━━━━━━━━━━━━━━━━━━━━━━━━━\u001b[0m \u001b[32m0.0/146.8 kB\u001b[0m \u001b[31m?\u001b[0m eta \u001b[36m-:--:--\u001b[0m\r\u001b[2K   \u001b[90m━━━━━━━━━━━━━━━━━━━━━━━━━━━━━━━━━━━━━━━━\u001b[0m \u001b[32m146.8/146.8 kB\u001b[0m \u001b[31m11.6 MB/s\u001b[0m eta \u001b[36m0:00:00\u001b[0m\n",
            "\u001b[2K   \u001b[90m━━━━━━━━━━━━━━━━━━━━━━━━━━━━━━━━━━━━━━━━\u001b[0m \u001b[32m139.3/139.3 kB\u001b[0m \u001b[31m12.5 MB/s\u001b[0m eta \u001b[36m0:00:00\u001b[0m\n",
            "\u001b[2K   \u001b[90m━━━━━━━━━━━━━━━━━━━━━━━━━━━━━━━━━━━━━━━━\u001b[0m \u001b[32m537.8/537.8 kB\u001b[0m \u001b[31m24.3 MB/s\u001b[0m eta \u001b[36m0:00:00\u001b[0m\n",
            "\u001b[2K   \u001b[90m━━━━━━━━━━━━━━━━━━━━━━━━━━━━━━━━━━━━━━━━\u001b[0m \u001b[32m541.5/541.5 kB\u001b[0m \u001b[31m31.2 MB/s\u001b[0m eta \u001b[36m0:00:00\u001b[0m\n",
            "\u001b[2K   \u001b[90m━━━━━━━━━━━━━━━━━━━━━━━━━━━━━━━━━━━━━━━━\u001b[0m \u001b[32m194.2/194.2 kB\u001b[0m \u001b[31m15.0 MB/s\u001b[0m eta \u001b[36m0:00:00\u001b[0m\n",
            "\u001b[2K   \u001b[90m━━━━━━━━━━━━━━━━━━━━━━━━━━━━━━━━━━━━━━━━\u001b[0m \u001b[32m12.3/12.3 MB\u001b[0m \u001b[31m84.1 MB/s\u001b[0m eta \u001b[36m0:00:00\u001b[0m\n",
            "\u001b[2K   \u001b[90m━━━━━━━━━━━━━━━━━━━━━━━━━━━━━━━━━━━━━━━━\u001b[0m \u001b[32m14.0/14.0 MB\u001b[0m \u001b[31m72.6 MB/s\u001b[0m eta \u001b[36m0:00:00\u001b[0m\n",
            "\u001b[2K   \u001b[90m━━━━━━━━━━━━━━━━━━━━━━━━━━━━━━━━━━━━━━━━\u001b[0m \u001b[32m76.7/76.7 kB\u001b[0m \u001b[31m5.1 MB/s\u001b[0m eta \u001b[36m0:00:00\u001b[0m\n",
            "\u001b[2K   \u001b[90m━━━━━━━━━━━━━━━━━━━━━━━━━━━━━━━━━━━━━━━━\u001b[0m \u001b[32m59.7/59.7 kB\u001b[0m \u001b[31m4.1 MB/s\u001b[0m eta \u001b[36m0:00:00\u001b[0m\n",
            "\u001b[2K   \u001b[90m━━━━━━━━━━━━━━━━━━━━━━━━━━━━━━━━━━━━━━━━\u001b[0m \u001b[32m85.7/85.7 kB\u001b[0m \u001b[31m6.2 MB/s\u001b[0m eta \u001b[36m0:00:00\u001b[0m\n",
            "\u001b[2K   \u001b[90m━━━━━━━━━━━━━━━━━━━━━━━━━━━━━━━━━━━━━━━━\u001b[0m \u001b[32m1.6/1.6 MB\u001b[0m \u001b[31m63.5 MB/s\u001b[0m eta \u001b[36m0:00:00\u001b[0m\n",
            "\u001b[?25h\u001b[31mERROR: pip's dependency resolver does not currently take into account all the packages that are installed. This behaviour is the source of the following dependency conflicts.\n",
            "distributed 2025.5.0 requires cloudpickle>=3.0.0, but you have cloudpickle 2.2.1 which is incompatible.\n",
            "dask 2025.5.0 requires cloudpickle>=3.0.0, but you have cloudpickle 2.2.1 which is incompatible.\n",
            "omegaconf 2.3.0 requires antlr4-python3-runtime==4.9.*, but you have antlr4-python3-runtime 4.13.2 which is incompatible.\u001b[0m\u001b[31m\n",
            "\u001b[0m"
          ]
        }
      ]
    },
    {
      "cell_type": "code",
      "source": [
        "import base64\n",
        "import numpy as np\n",
        "\n",
        "from braket.circuits import noises\n",
        "from braket.devices import LocalSimulator\n",
        "\n",
        "from utils.bb84 import initialize_protocol, encode_qubits, measure_qubits, filter_qubits, array_to_string\n",
        "from utils.golay_code import GolayCode\n",
        "from utils.secret_utils import convert_to_octets\n",
        "\n",
        "BIT_FLIP_PROBABILITY = 0.15\n",
        "NUMBER_OF_QUBITS = 12\n",
        "ERROR_CORRECTION_CHUNK_SIZE = 12\n",
        "\n",
        "alice_raw_key = np.array([])\n",
        "bob_raw_key = np.array([])"
      ],
      "metadata": {
        "id": "xJWDcihkrtE2"
      },
      "execution_count": 23,
      "outputs": []
    },
    {
      "cell_type": "code",
      "source": [
        "# Generate key material until there are 12 bits of raw key\n",
        "\n",
        "while len(alice_raw_key) < ERROR_CORRECTION_CHUNK_SIZE:\n",
        "\n",
        "    # For Alice, the important basis is encoding basis.\n",
        "    encoding_basis_A, states_A, _ = initialize_protocol(NUMBER_OF_QUBITS)\n",
        "\n",
        "    # Print the initial state of Alice\n",
        "    sent_bits = array_to_string(states_A)\n",
        "\n",
        "    # For Bob, the relevant basis is measurement basis.\n",
        "    _, _, measurement_basis_B = initialize_protocol(NUMBER_OF_QUBITS)\n",
        "\n",
        "    # Alice encodes the values of her qubits using according bases from `encoding_bases_A`.\n",
        "    # This is stored as a Qiskit quantum circuit.\n",
        "    encoded_qubits_A = encode_qubits(NUMBER_OF_QUBITS, states_A, encoding_basis_A)\n",
        "\n",
        "    # Transmission of encoded qubits to Bob - might add noise!\n",
        "    noise = noises.BitFlip(probability=BIT_FLIP_PROBABILITY)\n",
        "    encoded_qubits_A.apply_gate_noise(noise)\n",
        "\n",
        "    # Bob performs measurement on the received qubits\n",
        "    measured_circuit = measure_qubits(encoded_qubits_A, measurement_basis_B)\n",
        "    device = LocalSimulator(\"braket_dm\")\n",
        "    result = device.run(measured_circuit, shots=1).result()\n",
        "    measured_bits = list(result.measurements[0])\n",
        "\n",
        "    # After Bob has measured the qubits, he sends his measurement bases to Alice.\n",
        "    # She responds to Bob by sending him her encoding bases. Now both parties know both the encoding basis and measurement basis for each qubit.\n",
        "    # In the key sifting phase, both sides keep only the qubits for which encoding basis and measurement basis were the same.\n",
        "    alice_raw_key = np.concatenate( (alice_raw_key, filter_qubits(sent_bits, encoding_basis_A, measurement_basis_B)) )\n",
        "    bob_raw_key = np.concatenate( (bob_raw_key, filter_qubits(measured_bits, encoding_basis_A, measurement_basis_B)) )"
      ],
      "metadata": {
        "id": "sn1JJHiSr2Se"
      },
      "execution_count": 24,
      "outputs": []
    },
    {
      "cell_type": "code",
      "source": [
        "alice_raw_key = alice_raw_key[:12]\n",
        "alice_raw_key\n",
        "\n",
        "bob_raw_key = bob_raw_key[:12]\n",
        "bob_raw_key"
      ],
      "metadata": {
        "colab": {
          "base_uri": "https://localhost:8080/"
        },
        "id": "ppC1HGQ9r3DG",
        "outputId": "a18afaff-df42-4d85-bbf7-e08ae26ce947"
      },
      "execution_count": 34,
      "outputs": [
        {
          "output_type": "execute_result",
          "data": {
            "text/plain": [
              "array([1., 0., 0., 1., 0., 0., 1., 1., 1., 0., 0., 0.])"
            ]
          },
          "metadata": {},
          "execution_count": 34
        }
      ]
    },
    {
      "cell_type": "code",
      "source": [
        "error_correcting_code = GolayCode()\n",
        "\n",
        "generator_matrix = error_correcting_code.get_generator_matrix()\n",
        "parity_check = error_correcting_code.get_parity_check_matrix()\n",
        "b_matrix = error_correcting_code.get_b_matrix()"
      ],
      "metadata": {
        "id": "dowjwQXPt_lA"
      },
      "execution_count": 35,
      "outputs": []
    },
    {
      "cell_type": "code",
      "source": [
        "encoded_key_A = np.matmul(generator_matrix, alice_raw_key) % 2\n",
        "print(f'Key of Alice after encoding is: {encoded_key_A}')\n",
        "syndrome_A = np.matmul(encoded_key_A, parity_check) % 2\n",
        "print(f'Syndrom of Alice (should be all zero): {syndrome_A}')\n",
        "parity_bits = encoded_key_A[12:]\n",
        "print(f'Information sent to Bob: {parity_bits}')"
      ],
      "metadata": {
        "colab": {
          "base_uri": "https://localhost:8080/"
        },
        "id": "TGuux72JuMsI",
        "outputId": "18f1de71-c7cb-4e01-b2f1-1da9d10346cc"
      },
      "execution_count": 36,
      "outputs": [
        {
          "output_type": "stream",
          "name": "stdout",
          "text": [
            "Key of Alice after encoding is: [1. 0. 1. 1. 0. 0. 1. 1. 0. 1. 0. 0. 1. 1. 0. 0. 0. 0. 1. 1. 1. 1. 0. 0.]\n",
            "Syndrom of Alice (should be all zero): [0. 0. 0. 0. 0. 0. 0. 0. 0. 0. 0. 0.]\n",
            "Information sent to Bob: [1. 1. 0. 0. 0. 0. 1. 1. 1. 1. 0. 0.]\n"
          ]
        }
      ]
    },
    {
      "cell_type": "code",
      "source": [
        "encoded_key_B = np.concatenate((bob_raw_key, parity_bits))\n",
        "print(encoded_key_B)\n",
        "syndrome_B = np.matmul(encoded_key_B, parity_check) % 2\n",
        "print(syndrome_B)\n",
        "syndrome_BB = np.matmul(syndrome_B, b_matrix) % 2\n",
        "syndrome_BB"
      ],
      "metadata": {
        "colab": {
          "base_uri": "https://localhost:8080/"
        },
        "id": "mFTuzXEmuR8Y",
        "outputId": "2a5c67cc-6569-4dca-f9f6-679ff274414c"
      },
      "execution_count": 37,
      "outputs": [
        {
          "output_type": "stream",
          "name": "stdout",
          "text": [
            "[1. 0. 0. 1. 0. 0. 1. 1. 1. 0. 0. 0. 1. 1. 0. 0. 0. 0. 1. 1. 1. 1. 0. 0.]\n",
            "[1. 0. 0. 1. 1. 1. 0. 1. 1. 1. 1. 1.]\n"
          ]
        },
        {
          "output_type": "execute_result",
          "data": {
            "text/plain": [
              "array([0., 0., 1., 0., 0., 0., 0., 0., 1., 1., 0., 0.])"
            ]
          },
          "metadata": {},
          "execution_count": 37
        }
      ]
    },
    {
      "cell_type": "code",
      "source": [
        "if syndrome_BB.sum() < 4:\n",
        "    correction_mask = np.concatenate((syndrome_BB, np.zeros(12,)))\n",
        "    print(correction_mask)\n",
        "else:\n",
        "    print(\"Decoding failed - more than 3 errors\")"
      ],
      "metadata": {
        "colab": {
          "base_uri": "https://localhost:8080/"
        },
        "id": "95MbmtSEuWng",
        "outputId": "86fb4beb-9d48-49d9-9d32-d2679956abeb"
      },
      "execution_count": 29,
      "outputs": [
        {
          "output_type": "stream",
          "name": "stdout",
          "text": [
            "[0. 0. 1. 0. 0. 0. 0. 0. 1. 1. 0. 0. 0. 0. 0. 0. 0. 0. 0. 0. 0. 0. 0. 0.]\n"
          ]
        }
      ]
    },
    {
      "cell_type": "code",
      "source": [
        "corrected_key = np.mod(bob_raw_key + correction_mask[:12], 2).astype(int)\n",
        "corrected_key"
      ],
      "metadata": {
        "colab": {
          "base_uri": "https://localhost:8080/"
        },
        "id": "9uXZnQBoucCY",
        "outputId": "d033d6a1-7a2c-47a3-e85e-78b3adac8577"
      },
      "execution_count": 30,
      "outputs": [
        {
          "output_type": "execute_result",
          "data": {
            "text/plain": [
              "array([1, 0, 1, 1, 0, 0, 1, 1, 0, 1, 0, 0])"
            ]
          },
          "metadata": {},
          "execution_count": 30
        }
      ]
    },
    {
      "cell_type": "code",
      "source": [
        "corrected_key == alice_raw_key"
      ],
      "metadata": {
        "colab": {
          "base_uri": "https://localhost:8080/"
        },
        "id": "hAlxgZP0ue53",
        "outputId": "0d8366dd-5884-4344-ef95-e2754c877601"
      },
      "execution_count": 31,
      "outputs": [
        {
          "output_type": "execute_result",
          "data": {
            "text/plain": [
              "array([ True,  True,  True,  True,  True,  True,  True,  True,  True,\n",
              "        True,  True,  True])"
            ]
          },
          "metadata": {},
          "execution_count": 31
        }
      ]
    },
    {
      "cell_type": "markdown",
      "source": [],
      "metadata": {
        "id": "4bevnyltt_ai"
      }
    },
    {
      "cell_type": "code",
      "source": [
        "ASCII_key = base64.b64encode(convert_to_octets(array_to_string(corrected_key))).decode('ascii')\n",
        "print(ASCII_key)"
      ],
      "metadata": {
        "colab": {
          "base_uri": "https://localhost:8080/"
        },
        "id": "d9tte3TIuiUo",
        "outputId": "3ddf7266-911f-42be-9ad4-f83809dc4a7f"
      },
      "execution_count": 32,
      "outputs": [
        {
          "output_type": "stream",
          "name": "stdout",
          "text": [
            "sw==\n"
          ]
        }
      ]
    },
    {
      "cell_type": "code",
      "source": [
        "!python sample-bb84_with_noise_and_golay.py\n"
      ],
      "metadata": {
        "colab": {
          "base_uri": "https://localhost:8080/"
        },
        "id": "mw5tijtOs2zo",
        "outputId": "d9970176-a066-4cba-fdf1-c7358d714737"
      },
      "execution_count": 12,
      "outputs": [
        {
          "output_type": "stream",
          "name": "stdout",
          "text": [
            "Key of Alice after encoding is: [0. 1. 1. 1. 0. 0. 0. 0. 1. 1. 0. 0. 1. 1. 0. 0. 0. 1. 1. 1. 1. 0. 0. 1.]\n",
            "Syndrom of Alice (should be all zero): [0. 0. 0. 0. 0. 0. 0. 0. 0. 0. 0. 0.]\n",
            "Information sent to Bob: [1. 1. 0. 0. 0. 1. 1. 1. 1. 0. 0. 1.]\n",
            "[0. 1. 1. 0. 0. 1. 0. 0. 1. 1. 0. 1. 1. 1. 0. 0. 0. 1. 1. 1. 1. 0. 0. 1.]\n",
            "[1. 0. 0. 1. 0. 1. 1. 0. 0. 1. 0. 0.]\n",
            "[0. 0. 0. 1. 0. 1. 0. 0. 0. 0. 0. 1. 0. 0. 0. 0. 0. 0. 0. 0. 0. 0. 0. 0.]\n",
            "cA==\n"
          ]
        }
      ]
    }
  ]
}
